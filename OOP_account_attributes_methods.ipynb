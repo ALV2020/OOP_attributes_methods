{
 "cells": [
  {
   "cell_type": "code",
   "execution_count": 3,
   "id": "622d9f27",
   "metadata": {},
   "outputs": [],
   "source": [
    "class Account():\n",
    "    \n",
    "    def __init__(self,owner,balance=0):\n",
    "        \n",
    "        self.owner = owner\n",
    "        self.balance = balance\n",
    "        \n",
    "    def deposit(self,dep_amt):\n",
    "        \n",
    "        self.balance = self.balance + dep_amt\n",
    "        print(f\"Added {dep_amt} to the balance\")\n",
    "        \n",
    "    def withdrawal(self,wd_amt):\n",
    "        \n",
    "        if self.balance >= wd_amt:\n",
    "            self.balance = self.balance - wd_amt\n",
    "            print(\"Withdrawal accepted\")\n",
    "        else:\n",
    "            print(\"Sorry non enough funds!\")\n",
    "            \n",
    "    def __str__(self):\n",
    "        return f\"Owner: {self.owner} \\nBalance: {self.balance}\"\n",
    "        "
   ]
  },
  {
   "cell_type": "code",
   "execution_count": 4,
   "id": "8025b220",
   "metadata": {},
   "outputs": [],
   "source": [
    "a = Account(\"Sam\",500)"
   ]
  },
  {
   "cell_type": "code",
   "execution_count": 5,
   "id": "80d0320c",
   "metadata": {},
   "outputs": [
    {
     "data": {
      "text/plain": [
       "'Sam'"
      ]
     },
     "execution_count": 5,
     "metadata": {},
     "output_type": "execute_result"
    }
   ],
   "source": [
    "a.owner"
   ]
  },
  {
   "cell_type": "code",
   "execution_count": 6,
   "id": "bd206104",
   "metadata": {},
   "outputs": [
    {
     "data": {
      "text/plain": [
       "500"
      ]
     },
     "execution_count": 6,
     "metadata": {},
     "output_type": "execute_result"
    }
   ],
   "source": [
    "a.balance"
   ]
  },
  {
   "cell_type": "code",
   "execution_count": 7,
   "id": "c42da0c2",
   "metadata": {},
   "outputs": [
    {
     "name": "stdout",
     "output_type": "stream",
     "text": [
      "Added 100 to the balance\n"
     ]
    }
   ],
   "source": [
    "a.deposit(100)"
   ]
  },
  {
   "cell_type": "code",
   "execution_count": 8,
   "id": "22a30bb9",
   "metadata": {},
   "outputs": [
    {
     "name": "stdout",
     "output_type": "stream",
     "text": [
      "Owner: Sam \n",
      "Balance: 600\n"
     ]
    }
   ],
   "source": [
    "print(a)"
   ]
  },
  {
   "cell_type": "code",
   "execution_count": 9,
   "id": "b4bebce3",
   "metadata": {},
   "outputs": [
    {
     "name": "stdout",
     "output_type": "stream",
     "text": [
      "Withdrawal accepted\n"
     ]
    }
   ],
   "source": [
    "a.withdrawal(600)"
   ]
  },
  {
   "cell_type": "code",
   "execution_count": 10,
   "id": "f99be73e",
   "metadata": {},
   "outputs": [
    {
     "name": "stdout",
     "output_type": "stream",
     "text": [
      "Owner: Sam \n",
      "Balance: 0\n"
     ]
    }
   ],
   "source": [
    "print(a)"
   ]
  },
  {
   "cell_type": "code",
   "execution_count": 11,
   "id": "d1f044a3",
   "metadata": {},
   "outputs": [
    {
     "name": "stdout",
     "output_type": "stream",
     "text": [
      "Sorry non enough funds!\n"
     ]
    }
   ],
   "source": [
    "a.withdrawal(1)"
   ]
  },
  {
   "cell_type": "code",
   "execution_count": null,
   "id": "cddf3e45",
   "metadata": {},
   "outputs": [],
   "source": []
  }
 ],
 "metadata": {
  "kernelspec": {
   "display_name": "Python 3 (ipykernel)",
   "language": "python",
   "name": "python3"
  },
  "language_info": {
   "codemirror_mode": {
    "name": "ipython",
    "version": 3
   },
   "file_extension": ".py",
   "mimetype": "text/x-python",
   "name": "python",
   "nbconvert_exporter": "python",
   "pygments_lexer": "ipython3",
   "version": "3.9.7"
  }
 },
 "nbformat": 4,
 "nbformat_minor": 5
}
